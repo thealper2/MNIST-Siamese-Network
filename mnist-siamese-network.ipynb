{
 "cells": [
  {
   "cell_type": "code",
   "execution_count": null,
   "metadata": {
    "_cell_guid": "b1076dfc-b9ad-4769-8c92-a6c4dae69d19",
    "_uuid": "8f2839f25d086af736a60e9eeb907d3b93b6e0e5"
   },
   "outputs": [],
   "source": [
    "# This Python 3 environment comes with many helpful analytics libraries installed\n",
    "# It is defined by the kaggle/python Docker image: https://github.com/kaggle/docker-python\n",
    "# For example, here's several helpful packages to load\n",
    "\n",
    "import numpy as np # linear algebra\n",
    "import pandas as pd # data processing, CSV file I/O (e.g. pd.read_csv)\n",
    "\n",
    "# Input data files are available in the read-only \"../input/\" directory\n",
    "# For example, running this (by clicking run or pressing Shift+Enter) will list all files under the input directory\n",
    "\n",
    "import os\n",
    "for dirname, _, filenames in os.walk('/kaggle/input'):\n",
    "    for filename in filenames:\n",
    "        print(os.path.join(dirname, filename))\n",
    "\n",
    "# You can write up to 20GB to the current directory (/kaggle/working/) that gets preserved as output when you create a version using \"Save & Run All\" \n",
    "# You can also write temporary files to /kaggle/temp/, but they won't be saved outside of the current session"
   ]
  },
  {
   "cell_type": "markdown",
   "metadata": {},
   "source": [
    "# Import Libraries"
   ]
  },
  {
   "cell_type": "code",
   "execution_count": null,
   "metadata": {},
   "outputs": [],
   "source": [
    "import os\n",
    "os.environ[\"TF_CPP_MIN_LOG_LEVEL\"] = \"3\"\n",
    "\n",
    "import random\n",
    "import numpy as np\n",
    "import matplotlib.pyplot as plt\n",
    "import tensorflow as tf\n",
    "from tensorflow.keras import layers, optimizers, models, callbacks\n",
    "from tensorflow.keras.datasets import mnist\n",
    "from tensorflow.keras.utils import plot_model"
   ]
  },
  {
   "cell_type": "markdown",
   "metadata": {},
   "source": [
    "# Load Data"
   ]
  },
  {
   "cell_type": "code",
   "execution_count": null,
   "metadata": {},
   "outputs": [],
   "source": [
    "(train_images, train_labels), (test_images, test_labels) = mnist.load_data()"
   ]
  },
  {
   "cell_type": "code",
   "execution_count": null,
   "metadata": {},
   "outputs": [],
   "source": [
    "#train_images = train_images / 255\n",
    "#test_images = test_images / 255"
   ]
  },
  {
   "cell_type": "code",
   "execution_count": null,
   "metadata": {},
   "outputs": [],
   "source": [
    "X_train = train_images[:50000]\n",
    "X_valid = train_images[50000:]\n",
    "\n",
    "y_train = train_labels[:50000]\n",
    "y_valid = train_labels[50000:]\n",
    "\n",
    "X_test = test_images\n",
    "y_test = test_labels"
   ]
  },
  {
   "cell_type": "markdown",
   "metadata": {},
   "source": [
    "# Create Pairs"
   ]
  },
  {
   "cell_type": "code",
   "execution_count": null,
   "metadata": {},
   "outputs": [],
   "source": [
    "def make_pairs(x, y):\n",
    "    digits = [np.where(y == i)[0] for i in range(10)]\n",
    "    pairs = []\n",
    "    labels = []\n",
    "\n",
    "    for idx1, (x1, label1) in enumerate(zip(x, y)):\n",
    "        idx2 = random.choice(digits[label1])\n",
    "        pairs.extend([[x1, x[idx2]], [x1, x[random.choice(digits[random.choice([i for i in range(10) if i != label1])])]]])\n",
    "        labels.extend([0, 1])\n",
    "\n",
    "    return np.array(pairs), np.array(labels).astype(\"float32\")"
   ]
  },
  {
   "cell_type": "code",
   "execution_count": null,
   "metadata": {},
   "outputs": [],
   "source": [
    "X_train, y_train = make_pairs(X_train, y_train)\n",
    "X_valid, y_valid = make_pairs(X_valid, y_valid)\n",
    "X_test, y_test = make_pairs(X_test, y_test)"
   ]
  },
  {
   "cell_type": "code",
   "execution_count": null,
   "metadata": {},
   "outputs": [],
   "source": [
    "X_train1 = X_train[:, 0]\n",
    "X_train2 = X_train[:, 1]\n",
    "\n",
    "X_valid1 = X_valid[:, 0]\n",
    "X_valid2 = X_valid[:, 1]\n",
    "\n",
    "X_test1 = X_test[:, 0]\n",
    "X_test2 = X_test[:, 1]"
   ]
  },
  {
   "cell_type": "markdown",
   "metadata": {},
   "source": [
    "# Visualization"
   ]
  },
  {
   "cell_type": "code",
   "execution_count": null,
   "metadata": {},
   "outputs": [],
   "source": [
    "def plot_pairs(pairs, labels):\n",
    "    fig, axes = plt.subplots(4, 4, figsize=(10, 10))\n",
    "    for i, ax in enumerate(axes.ravel()):\n",
    "        ax.imshow(tf.concat([pairs[i][0], pairs[i][1]], axis=1), cmap=\"gray\")\n",
    "        ax.axis(\"off\")\n",
    "        ax.set_title(f\"Distance: {labels[i]}\")\n",
    "\n",
    "    plt.show()"
   ]
  },
  {
   "cell_type": "code",
   "execution_count": null,
   "metadata": {},
   "outputs": [],
   "source": [
    "plot_pairs(X_train, y_train)"
   ]
  },
  {
   "cell_type": "markdown",
   "metadata": {},
   "source": [
    "# Model"
   ]
  },
  {
   "cell_type": "code",
   "execution_count": null,
   "metadata": {},
   "outputs": [],
   "source": [
    "def euclidean_distance(vects):\n",
    "    return tf.sqrt(tf.maximum(tf.reduce_sum(tf.square(vects[0] - vects[1]), axis=1, keepdims=True), tf.keras.backend.epsilon()))"
   ]
  },
  {
   "cell_type": "code",
   "execution_count": null,
   "metadata": {},
   "outputs": [],
   "source": [
    "input1 = layers.Input((28, 28, 1))\n",
    "conv_1_1 = layers.Conv2D(8, kernel_size=(2, 2), activation=\"relu\")(input1)\n",
    "avgpool_1_1 = layers.AveragePooling2D((2, 2))(conv_1_1)\n",
    "conv_1_2 = layers.Conv2D(16, kernel_size=(2, 2), activation=\"relu\")(avgpool_1_1)\n",
    "avgpool_1_2 = layers.AveragePooling2D((2, 2))(conv_1_2)\n",
    "conv_1_3 = layers.Conv2D(32, kernel_size=(2, 2), activation=\"relu\")(avgpool_1_2)\n",
    "avgpool_1_3 = layers.AveragePooling2D((2, 2))(conv_1_3)\n",
    "flat_1_1 = layers.Flatten()(avgpool_1_3)\n",
    "batchnorm_1_1 = layers.BatchNormalization()(flat_1_1)\n",
    "dense_1_1 = layers.Dense(10, activation=\"tanh\")(batchnorm_1_1)\n",
    "\n",
    "input2 = layers.Input((28, 28, 1))\n",
    "conv_2_1 = layers.Conv2D(8, kernel_size=(2, 2), activation=\"relu\")(input2)\n",
    "avgpool_2_1 = layers.AveragePooling2D((2, 2))(conv_2_1)\n",
    "conv_2_2 = layers.Conv2D(16, kernel_size=(2, 2), activation=\"relu\")(avgpool_2_1)\n",
    "avgpool_2_2 = layers.AveragePooling2D((2, 2))(conv_2_2)\n",
    "conv_2_3 = layers.Conv2D(32, kernel_size=(2, 2), activation=\"relu\")(avgpool_2_2)\n",
    "avgpool_2_3 = layers.AveragePooling2D((2, 2))(conv_2_3)\n",
    "flat_2_1 = layers.Flatten()(avgpool_2_3)\n",
    "batchnorm_2_1 = layers.BatchNormalization()(flat_2_1)\n",
    "dense_2_1 = layers.Dense(10, activation=\"tanh\")(batchnorm_2_1)\n",
    "\n",
    "merge_layer = layers.Lambda(euclidean_distance)([dense_1_1, dense_2_1])\n",
    "batchnorm_1 = layers.BatchNormalization()(merge_layer)\n",
    "output_layer = layers.Dense(1, activation=\"sigmoid\")(batchnorm_1)\n",
    "\n",
    "model = models.Model(inputs=[input1, input2], outputs=output_layer)"
   ]
  },
  {
   "cell_type": "code",
   "execution_count": null,
   "metadata": {},
   "outputs": [],
   "source": [
    "model.summary()"
   ]
  },
  {
   "cell_type": "code",
   "execution_count": null,
   "metadata": {},
   "outputs": [],
   "source": [
    "plot_model(model, show_shapes=True)"
   ]
  },
  {
   "cell_type": "code",
   "execution_count": null,
   "metadata": {},
   "outputs": [],
   "source": [
    "def loss(margin):\n",
    "    return lambda y_true, y_pred: tf.reduce_mean((1 - y_true) * tf.square(y_pred) + y_true * tf.square(tf.maximum(margin - y_pred, 0)))"
   ]
  },
  {
   "cell_type": "code",
   "execution_count": null,
   "metadata": {},
   "outputs": [],
   "source": [
    "model.compile(loss=loss(margin=1),\n",
    "                optimizer=optimizers.RMSprop(),\n",
    "                metrics=[\"accuracy\"])"
   ]
  },
  {
   "cell_type": "markdown",
   "metadata": {},
   "source": [
    "# Train"
   ]
  },
  {
   "cell_type": "code",
   "execution_count": null,
   "metadata": {},
   "outputs": [],
   "source": [
    "history = model.fit(\n",
    "    x=[X_train1, X_train2],\n",
    "    y=y_train,\n",
    "    validation_data=([X_valid1, X_valid2], y_valid),\n",
    "    batch_size=32,\n",
    "    epochs=25\n",
    ")"
   ]
  },
  {
   "cell_type": "markdown",
   "metadata": {},
   "source": [
    "# Results"
   ]
  },
  {
   "cell_type": "code",
   "execution_count": null,
   "metadata": {},
   "outputs": [],
   "source": [
    "plt.figure()\n",
    "plt.plot(history.history[\"accuracy\"])\n",
    "plt.plot(history.history[\"val_accuracy\"])\n",
    "plt.xlabel(\"Epoch\")\n",
    "plt.ylabel(\"Accuracy\")\n",
    "plt.legend([\"train\", \"valid\"])\n",
    "plt.title(\"Accuracy Curve\")\n",
    "plt.ylim([0, 1])\n",
    "plt.show()"
   ]
  },
  {
   "cell_type": "code",
   "execution_count": null,
   "metadata": {},
   "outputs": [],
   "source": [
    "plt.figure()\n",
    "plt.plot(history.history[\"loss\"])\n",
    "plt.plot(history.history[\"val_loss\"])\n",
    "plt.xlabel(\"Epoch\")\n",
    "plt.ylabel(\"Loss\")\n",
    "plt.legend([\"train\", \"valid\"])\n",
    "plt.title(\"Loss Curve\")\n",
    "plt.ylim([0, 1])\n",
    "plt.show()"
   ]
  },
  {
   "cell_type": "markdown",
   "metadata": {},
   "source": [
    "# Test"
   ]
  },
  {
   "cell_type": "code",
   "execution_count": null,
   "metadata": {},
   "outputs": [],
   "source": [
    "test_loss, test_acc = model.evaluate([X_test1, X_test2], y_test)\n",
    "print(f\"Test Loss: {test_loss}\\nTest Accuracy: {test_acc}\")"
   ]
  },
  {
   "cell_type": "code",
   "execution_count": null,
   "metadata": {},
   "outputs": [],
   "source": [
    "model_predictions = model.predict([X_test1, X_test2])"
   ]
  },
  {
   "cell_type": "code",
   "execution_count": null,
   "metadata": {},
   "outputs": [],
   "source": [
    "def plot_predictions(pairs, labels, preds):\n",
    "    fig, axes = plt.subplots(4, 4, figsize=(10, 10))\n",
    "    for i, ax in enumerate(axes.ravel()):\n",
    "        ax.imshow(tf.concat([pairs[i][0], pairs[i][1]], axis=1), cmap=\"gray\")\n",
    "        ax.axis(\"off\")\n",
    "        ax.set_title(f\"Distance True: {labels[i]}\\n Distance Pred: {preds[i][0]:.4f}\")\n",
    "\n",
    "    plt.show()"
   ]
  },
  {
   "cell_type": "code",
   "execution_count": null,
   "metadata": {},
   "outputs": [],
   "source": [
    "plot_predictions(X_test, y_test, model_predictions)"
   ]
  },
  {
   "cell_type": "code",
   "execution_count": null,
   "metadata": {},
   "outputs": [],
   "source": []
  }
 ],
 "metadata": {
  "kernelspec": {
   "display_name": "Python 3 (ipykernel)",
   "language": "python",
   "name": "python3"
  },
  "language_info": {
   "codemirror_mode": {
    "name": "ipython",
    "version": 3
   },
   "file_extension": ".py",
   "mimetype": "text/x-python",
   "name": "python",
   "nbconvert_exporter": "python",
   "pygments_lexer": "ipython3",
   "version": "3.10.12"
  }
 },
 "nbformat": 4,
 "nbformat_minor": 4
}
